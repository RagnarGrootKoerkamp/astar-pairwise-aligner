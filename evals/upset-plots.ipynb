{
 "cells": [
  {
   "cell_type": "code",
   "execution_count": null,
   "metadata": {},
   "outputs": [],
   "source": [
    "import upsetplot\n",
    "import pandas as pd\n",
    "from upsetplot import from_memberships\n",
    "from upsetplot import from_contents\n",
    "from upsetplot import UpSet"
   ]
  },
  {
   "cell_type": "code",
   "execution_count": null,
   "metadata": {},
   "outputs": [],
   "source": [
    "example = from_memberships(\n",
    "     [\n",
    "      #['trie', 'prefixh'],  # AStarix prefix heuristic\n",
    "      #['trie', 'seedh', 'crumbs'],  # AStarix seed heuristic\n",
    "      ['seedh', 'pruning', 'inexact matches', 'variable length seeds', 'online seeds'], # SH\n",
    "      ['seedh', 'pruning', 'seed chaining', 'missing seed cost'], # CSH\n",
    "      ['seedh', 'pruning', 'seed chaining', 'inexact matches', 'missing seed cost', 'gap costs', 'letter cost', 'variable length seeds', 'online seeds'], # Next\n",
    "      ],\n",
    "      #data=[1, 2, 3, 4, 5]\n",
    ")"
   ]
  },
  {
   "cell_type": "code",
   "execution_count": null,
   "metadata": {},
   "outputs": [],
   "source": [
    "plt = UpSet(example, intersection_plot_elements=0, orientation='horizontal').plot()"
   ]
  },
  {
   "cell_type": "code",
   "execution_count": null,
   "metadata": {},
   "outputs": [],
   "source": [
    "contents = {'cat1': [0, 1, 2],\n",
    "             'cat2': [1, 3],\n",
    "             'cat3': [4]}\n",
    "#up = from_contents(contents)\n",
    "data = pd.DataFrame({'favourite': ['green', 'red', 'red', 'yellow', 'blue']})\n",
    "up = from_contents(contents, data=data)"
   ]
  },
  {
   "cell_type": "code",
   "execution_count": null,
   "metadata": {},
   "outputs": [],
   "source": [
    "plt = UpSet(up, orientation='vertical').plot()"
   ]
  },
  {
   "cell_type": "code",
   "execution_count": null,
   "metadata": {},
   "outputs": [],
   "source": []
  }
 ],
 "metadata": {
  "kernelspec": {
   "display_name": "Python 3",
   "language": "python",
   "name": "python3"
  },
  "language_info": {
   "codemirror_mode": {
    "name": "ipython",
    "version": 3
   },
   "file_extension": ".py",
   "mimetype": "text/x-python",
   "name": "python",
   "nbconvert_exporter": "python",
   "pygments_lexer": "ipython3",
   "version": "3.8.10"
  }
 },
 "nbformat": 4,
 "nbformat_minor": 4
}
