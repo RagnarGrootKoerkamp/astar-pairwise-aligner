{
 "cells": [
  {
   "cell_type": "code",
   "execution_count": null,
   "metadata": {},
   "outputs": [],
   "source": [
    "from header import *\n",
    "from scipy import optimize\n",
    "plt.rcParams.update({'font.size': 16})\n",
    "plots_dir = Path('imgs/')\n",
    "timelimit = 150"
   ]
  },
  {
   "cell_type": "code",
   "execution_count": null,
   "metadata": {},
   "outputs": [],
   "source": [
    "def plot_heatmap_c_vs_d(df, experiment, x, y, value, cmap):\n",
    "    #mind = min(df[y])\n",
    "    #minc = int(min(df[x]))\n",
    "    maxd = int(max(df[y]))\n",
    "    maxc = int(max(df[x]))\n",
    "    \n",
    "    #maxd = 20\n",
    "    #maxc = 20\n",
    "    \n",
    "    A = np.zeros((maxc+1, maxd+1))\n",
    "    for index, row in df.iterrows():\n",
    "        d, c = row[y], int(row[x]), \n",
    "        v = row[value]\n",
    "        if d <= maxd and c <= maxc:\n",
    "            A[c, d] = v\n",
    "\n",
    "    #plt.imshow(A, cmap='hot', interpolation='nearest')\n",
    "    ax = sns.heatmap(A, linewidth=4.0, cmap=cmap, #annot=True,\n",
    "                     square=True, cbar_kws={\"orientation\": \"vertical\", \"label\": \"sec\"})\n",
    "    ax.set_title(col2name(value), size=18)\n",
    "    #ax.set_xticks(rotation=90)\n",
    "    ax.tick_params(\n",
    "        axis='both',          # changes apply to the x-axis\n",
    "        which='both',      # both major and minor ticks are affected\n",
    "        bottom=False,      # ticks along the bottom edge are off\n",
    "        left=False,      # ticks along the bottom edge are off\n",
    "        labelsize=16,\n",
    "        labelrotation=0,\n",
    "        #top=False,         # ticks along the top edge are off\n",
    "    #    labelbottom=False # labels along the bottom edge are off\n",
    "    )\n",
    "    \n",
    "    ax.set_xlabel('Length cap (d)', size=18)\n",
    "    ax.set_ylabel('Cost cap (c)', size=18) #rotation=0, labelpad=13, size=16)\n",
    "    \n",
    "    # sns workaround\n",
    "    b, t = plt.ylim() # discover the values for bottom and top\n",
    "    b += 0.5 # Add 0.5 to the bottom\n",
    "    t -= 0.5 # Subtract 0.5 from the top\n",
    "    plt.ylim(b, t) # update the ylim(bottom, top) values\n",
    "\n",
    "    ax.invert_yaxis()\n",
    "    \n",
    "    plt.savefig('{}-heatmap-c_vs_d-{}.pdf'.format(experiment, value), bbox_inches='tight')\n",
    "    plt.show()"
   ]
  },
  {
   "cell_type": "code",
   "execution_count": null,
   "metadata": {},
   "outputs": [],
   "source": [
    "df = read_benchmarks('table/params_N1000000.tsv')\n",
    "\n",
    "for e in pd.unique(df.e):\n",
    "    d = df[df.e == e]\n",
    "    display(d.head())\n",
    "    #plot_heatmap_c_vs_d(d, experiment='choose_params', x='n', y='k', value='s_per_pair', cmap='BuGn_r')"
   ]
  },
  {
   "cell_type": "code",
   "execution_count": null,
   "metadata": {},
   "outputs": [],
   "source": []
  }
 ],
 "metadata": {
  "kernelspec": {
   "display_name": "Python 3",
   "language": "python",
   "name": "python3"
  },
  "language_info": {
   "codemirror_mode": {
    "name": "ipython",
    "version": 3
   },
   "file_extension": ".py",
   "mimetype": "text/x-python",
   "name": "python",
   "nbconvert_exporter": "python",
   "pygments_lexer": "ipython3",
   "version": "3.8.10"
  }
 },
 "nbformat": 4,
 "nbformat_minor": 4
}
