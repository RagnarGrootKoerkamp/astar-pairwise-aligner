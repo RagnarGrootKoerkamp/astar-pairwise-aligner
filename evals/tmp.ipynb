{
 "cells": [
  {
   "cell_type": "code",
   "execution_count": null,
   "metadata": {},
   "outputs": [],
   "source": [
    "import numpy as np\n",
    "from matplotlib import cm\n",
    "import matplotlib.pyplot as plt\n",
    "from matplotlib import colors as mcolors\n",
    "\n",
    "from pathlib import Path\n",
    "import pandas as pd\n",
    "\n",
    "plt.style.use('ggplot')\n",
    "pd.set_option('display.max_columns', None)"
   ]
  },
  {
   "cell_type": "code",
   "execution_count": null,
   "metadata": {},
   "outputs": [],
   "source": [
    "def plot_l():\n",
    "    f = 'stats/table.csv'\n",
    "    t = pd.read_csv(f, delimiter=',', dtype=None)\n",
    "    #display(t)\n",
    "    t['algo'] = t.heuristic + ' with ' + t.distance_function\n",
    "    t['band'] = t.explored / t.len_a\n",
    "    subt = t.loc[(t.error_rate == 0.1)]\n",
    "    #display(subt)\n",
    "\n",
    "    fig, ax = plt.subplots()\n",
    "\n",
    "    for key, grp in subt.groupby(['algo', 'pruning', 'match_distance']):\n",
    "        ax = grp.plot(ax=ax, kind='line', x='l', y='band', label=key)\n",
    "\n",
    "    plt.legend(loc='best')\n",
    "    plt.show()\n",
    "\n",
    "plot_l()"
   ]
  },
  {
   "cell_type": "code",
   "execution_count": null,
   "metadata": {},
   "outputs": [],
   "source": [
    "def plot_():\n",
    "    f = 'stats/table.csv'\n",
    "    t = pd.read_csv(f, delimiter=',', dtype=None)\n",
    "    t['algo'] = t.heuristic + ' with ' + t.distance_function\n",
    "    t['band'] = t.explored / t.len_a\n",
    "    t['delta'] = t.distance - t.root_h\n",
    "    \n",
    "    subt = t.loc[(t.error_rate == 0.1)]\n",
    "    #display(subt)\n",
    "\n",
    "    fig, ax = plt.subplots()\n",
    "\n",
    "    for key, grp in subt.groupby(['algo', 'pruning', 'match_distance']):\n",
    "        ax = grp.plot(ax=ax, kind='line', x='delta', y='band', label=key)\n",
    "\n",
    "    plt.legend(loc='best')\n",
    "    plt.show()\n",
    "\n",
    "plot_()"
   ]
  },
  {
   "cell_type": "code",
   "execution_count": null,
   "metadata": {},
   "outputs": [],
   "source": []
  }
 ],
 "metadata": {
  "kernelspec": {
   "display_name": "Python 3",
   "language": "python",
   "name": "python3"
  },
  "language_info": {
   "codemirror_mode": {
    "name": "ipython",
    "version": 3
   },
   "file_extension": ".py",
   "mimetype": "text/x-python",
   "name": "python",
   "nbconvert_exporter": "python",
   "pygments_lexer": "ipython3",
   "version": "3.8.10"
  }
 },
 "nbformat": 4,
 "nbformat_minor": 4
}
