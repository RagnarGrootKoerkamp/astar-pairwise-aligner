{
 "cells": [
  {
   "cell_type": "code",
   "execution_count": null,
   "metadata": {},
   "outputs": [],
   "source": [
    "import numpy as np\n",
    "from matplotlib import cm\n",
    "import matplotlib.pyplot as plt\n",
    "from matplotlib import colors as mcolors\n",
    "\n",
    "from pathlib import Path\n",
    "import pandas as pd\n",
    "\n",
    "plt.style.use('ggplot')\n",
    "pd.set_option('display.max_columns', None)"
   ]
  },
  {
   "cell_type": "code",
   "execution_count": null,
   "metadata": {},
   "outputs": [],
   "source": [
    "INF = 999999\n",
    "\n",
    "def plot_explored(f, steps=-1, box=INF, l=6, lbox=0, path=True, matches=True, name=\"\"):\n",
    "    t = pd.read_csv(f, delimiter=',', dtype=None)\n",
    "    total_t = len(t.index)\n",
    " \n",
    "    max_steps = len(t) if steps == -1 else steps\n",
    "    \n",
    "    if box == INF:\n",
    "        n, m = max(t[:,0]) + 1, max(t[:,1]) + 1\n",
    "    else:\n",
    "        n, m = box-lbox, box-lbox\n",
    "    \n",
    "    img = np.ones((n, m, 4))\n",
    "    img.fill(0.97)  # grey\n",
    "    \n",
    "    def ok(x): return (lbox <= x) & (x < box)\n",
    "    \n",
    "    subt = t.loc[ok(t.i) & ok(t.j)]\n",
    "    \n",
    "    min_step = INF\n",
    "    for index, row in subt.loc[subt['type'] == 'Explored'].iterrows():\n",
    "        assert row.step != -1\n",
    "        min_step = min(min_step, row.step)\n",
    "    \n",
    "    for index, row in subt.loc[subt['type'] == 'Explored'].iterrows():\n",
    "        assert row.step != -1\n",
    "        if row.step > max_steps:\n",
    "            continue\n",
    "        val = (row.step-min_step) / (max_steps-min_step)\n",
    "        if val <= 1.0: \n",
    "            img[row.i-lbox, row.j-lbox] = cm.turbo(0.25+(val*1.3)) # cm.ocean(0.0+1.5*val)  # cm.jet(0.2+(val*1.5)) # cm.summer(val**0.5) #cm.cool(val)\n",
    "        \n",
    "    if path:\n",
    "        for index, row in subt.loc[subt['type'] == 'Path'].iterrows():\n",
    "            img[row.i-lbox, row.j-lbox] = mcolors.to_rgba('xkcd:black')\n",
    "     \n",
    "    if matches:\n",
    "        for index, row in subt.loc[subt['type'] == 'Match'].iterrows():\n",
    "            for d in range(l):\n",
    "                if row.i+d-lbox < img.shape[0] and row.j+d-lbox < img.shape[1]:\n",
    "                    img[row.i+d-lbox, row.j+d-lbox] = mcolors.to_rgba('xkcd:canary')\n",
    "    \n",
    "    fig, ax = plt.subplots()\n",
    "    title = f.stem\n",
    "    #ax.set_title(name, y=0.02, fontsize=11)\n",
    "    #ax.xaxis.tick_top()\n",
    "    ax.grid(False)\n",
    "    #ax.tick_params(axis='both', which='major', labelsize=11)\n",
    "    ax.tick_params(axis='both', which='both', bottom=False, top=False, labelbottom=False, right=False, left=False, labelleft=False)\n",
    "    #ax.set_xticks([0, 250, 500])\n",
    "    #ax.set_yticks([0, 250, 500])\n",
    "    \n",
    "    ax.imshow(img)\n",
    "    fig.savefig('imgs/'+title+'.png', bbox_inches = 'tight', dpi=1000)"
   ]
  }
 ],
 "metadata": {
  "kernelspec": {
   "display_name": "Python 3",
   "language": "python",
   "name": "python3"
  },
  "language_info": {
   "codemirror_mode": {
    "name": "ipython",
    "version": 3
   },
   "file_extension": ".py",
   "mimetype": "text/x-python",
   "name": "python",
   "nbconvert_exporter": "python",
   "pygments_lexer": "ipython3",
   "version": "3.8.10"
  },
  "widgets": {
   "application/vnd.jupyter.widget-state+json": {
    "state": {},
    "version_major": 2,
    "version_minor": 0
   }
  }
 },
 "nbformat": 4,
 "nbformat_minor": 4
}
