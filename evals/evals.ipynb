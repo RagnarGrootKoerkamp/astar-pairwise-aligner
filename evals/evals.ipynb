{
 "cells": [
  {
   "cell_type": "code",
   "execution_count": null,
   "metadata": {},
   "outputs": [],
   "source": [
    "from header import *"
   ]
  },
  {
   "cell_type": "code",
   "execution_count": null,
   "metadata": {},
   "outputs": [],
   "source": [
    "# SPEEDUP [Tools, scaling] -- time/alignment\n",
    "df = read_benchmarks('table/tools_N1e7.tsv')\n",
    "df = df[df.exit_status == \"ok\"]\n",
    "df = df[df.n >= 3*10**3]\n",
    "for e in pd.unique(df.e):\n",
    "    df_n = df[df.e == e]\n",
    "    plot_scaling(df_n, y='s_per_pair', x='n', filename=f'tools_e{e}', xlog=True, ylog=True, trend_line='poly', cone='csh', cone_x=3*10**4)"
   ]
  },
  {
   "cell_type": "code",
   "execution_count": null,
   "metadata": {},
   "outputs": [],
   "source": [
    "# SCALING WITH N\n",
    " \n",
    "df = read_benchmarks('table/scaling_n_N1e7.tsv')\n",
    "plot_scaling(df, y='s_per_pair', x='n', split=['alg', 'r'], filename='scaling_n', ylog=True, xlog=True, cone='cp-csh', cone_x=100, trend_line = 'poly')"
   ]
  },
  {
   "cell_type": "code",
   "execution_count": null,
   "metadata": {},
   "outputs": [],
   "source": [
    "# SCALING WITH E\n",
    "df = read_benchmarks('table/scaling_e_N1e6.tsv')\n",
    "plot_scaling(df, y='s_per_pair', x='e_pct', split=['alg', 'r'], filename=f'scaling_e', ylog=False, ls='-')"
   ]
  },
  {
   "cell_type": "code",
   "execution_count": null,
   "metadata": {},
   "outputs": [],
   "source": [
    "# TABLE AT 5%, 10^7\n",
    "df = read_benchmarks('table/tools_N1e7.tsv')\n",
    "df['alg_order'] = pd.Categorical(\n",
    "    df['alg'],\n",
    "    categories=['edlib','biwfa','sh','csh'],\n",
    "    ordered=True\n",
    ")\n",
    "df = df[df.exit_status == 'ok']\n",
    "df = df[df.n == 10**7]\n",
    "pt = df.pivot_table(['s_per_pair','max_uss'],['alg_order'], ['e'])\n",
    "pt = pt[['s_per_pair', 'max_uss']]\n",
    "display(pt)\n",
    "\n",
    "# Speedup\n",
    "times = pt['s_per_pair']\n",
    "for x in times:\n",
    "    t = times[x]\n",
    "    our_best = min(t['sh'], t['csh']) if not np.isnan(t['sh']) else t['csh']\n",
    "    their_best = min(t['edlib'], t['biwfa'])\n",
    "    print(f\"Speedup at {x:0.2f}: {their_best/our_best:.4}\")\n"
   ]
  },
  {
   "cell_type": "code",
   "execution_count": null,
   "metadata": {},
   "outputs": [],
   "source": [
    "# MAX MEMORY\n",
    "df = read_benchmarks('table/tools_N1e7.tsv')\n",
    "df = df[df.alg.isin(['sh', 'csh'])]\n",
    "df = df.groupby(['e', 'alg'])['max_uss'].agg('max')\n",
    "display(df)"
   ]
  },
  {
   "cell_type": "code",
   "execution_count": null,
   "metadata": {},
   "outputs": [],
   "source": [
    "# SCALING WITH K\n",
    "\n",
    "df = read_benchmarks('table/scaling_k_N1e7.tsv')\n",
    "algs=['cp-sh','cp-csh']\n",
    "ns = [10**3, 10**4, 10**5, 10**6, 10**7]\n",
    "df = df[df.alg.isin(algs)]\n",
    "df = df[df.n.isin(ns)]\n",
    "\n",
    "fig = plt.figure()\n",
    "ax = fig.add_axes([0,0,1,1])\n",
    "d = df.pivot(index='k', columns=['alg', 'm', 'n'], values='s_per_pair')\n",
    "for alg in algs:\n",
    "    d[alg].plot(ax=ax, alpha=0.6, color=algo2color(alg), marker=algo2marker(alg), ls='-', legend=False)\n",
    "ax.set_xticks(pd.unique(df.k))\n",
    "ax.set_yscale('log')\n",
    "plt.savefig(plots_dir/('scaling_k.pdf'), bbox_inches='tight')\n",
    "plt.show()"
   ]
  },
  {
   "cell_type": "code",
   "execution_count": null,
   "metadata": {},
   "outputs": [],
   "source": [
    "# SCALING WITH K (over e)\n",
    "\n",
    "df = read_benchmarks('table/scaling_k_n_N1e7.tsv')\n",
    "algs=['cp-sh','cp-csh']\n",
    "df = df[df.alg.isin(algs)]\n",
    "es = [0.02, 0.06, 0.10, 0.14]\n",
    "df = df[df.e.isin(es)]\n",
    "\n",
    "fig = plt.figure()\n",
    "ax = fig.add_axes([0,0,1,1])\n",
    "d = df.pivot(index='k', columns=['alg', 'm', 'e'], values='s_per_pair')\n",
    "for alg in algs:\n",
    "    d[alg].plot(ax=ax, alpha=0.6, color=algo2color(alg), marker=algo2marker(alg), ls='-', legend=False)\n",
    "ax.set_xticks(pd.unique(df.k))\n",
    "plt.savefig(plots_dir/('scaling_k_e_lin.pdf'), bbox_inches='tight')\n",
    "plt.show()\n",
    "\n",
    "\n",
    "fig = plt.figure()\n",
    "ax = fig.add_axes([0,0,1,1])\n",
    "d = df.pivot(index='k', columns=['alg', 'm', 'e'], values='s_per_pair')\n",
    "for alg in algs:\n",
    "    d[alg].plot(ax=ax, alpha=0.6, color=algo2color(alg), marker=algo2marker(alg), ls='-', legend=False)\n",
    "ax.set_xticks(pd.unique(df.k))\n",
    "ax.set_yscale('log')\n",
    "plt.savefig(plots_dir/('scaling_k_e_log.pdf'), bbox_inches='tight')\n",
    "plt.show()"
   ]
  },
  {
   "cell_type": "code",
   "execution_count": null,
   "metadata": {},
   "outputs": [],
   "source": [
    "# MEMORY\n",
    "name = \"memory\"\n",
    "df = tools\n",
    "# Only print things that didn't time out.\n",
    "#df = df[df.exit_status == \"ok\"]\n",
    "df = df[df.alg != 'cp-csh+gap']\n",
    "df = df[df.alg != 'csh+gap']\n",
    "# The constant memory of 30MB (snakemake error?) is too large in small tests\n",
    "df = df[df.n >= 10**4]\n",
    "def fit_from(algo):\n",
    "    if algo in ['dijkstra', 'dijkstra_nogreedy', 'pa_noprune', 'pa_noprune_nogreedy']: return 10**4\n",
    "    return 10**5\n",
    "\n",
    "for e in pd.unique(df.e):\n",
    "    df_n = df[df.e == e]\n",
    "    df_n = df_n[df_n.max_uss != '-']\n",
    "    df_n = df_n[df_n.max_uss > 0.025]\n",
    "    if df_n.empty: continue\n",
    "    plot_scaling(df_n, y='max_uss', x='n', filename=f'{name}_e{e}', xlog=True, ylog=True, trend_line='poly', fit_min=fit_from)"
   ]
  },
  {
   "cell_type": "code",
   "execution_count": null,
   "metadata": {},
   "outputs": [],
   "source": [
    "# Expanded states\n",
    "name = \"expanded\"\n",
    "df = tools\n",
    "df = df[df.alg != 'cp-csh+gap']\n",
    "df = df[df.alg != 'csh+gap']\n",
    "\n",
    "# Only print things that didn't time out.\n",
    "df = df[df.exit_status == \"ok\"]\n",
    "def fit_from(algo):\n",
    "    if algo in ['dijkstra', 'pa_noprune_nogreedy']:\n",
    "        return 10000\n",
    "    return 10000\n",
    "import math\n",
    "\n",
    "# Table of band\n",
    "b = df[['alg', 'n', 'e', 'band']].dropna()\n",
    "alg_order = ['sh', 'csh', 'csh-noprune',  'dijkstra']\n",
    "b['alg_idx'] = b['alg'].map(lambda a: alg_order.index(a))\n",
    "b = b.sort_values(by=['e', 'n', 'alg_idx'])\n",
    "display(pd.pivot_table(b, values='band', columns=['n'], index=['e', 'alg'], sort=False))\n",
    "\n",
    "# Plots of expanded states\n",
    "for e in pd.unique(df.e):\n",
    "    df_n = df[df.e == e]\n",
    "    df_n = df_n.dropna(subset=['expanded'])\n",
    "    plot_scaling(df_n, y='expanded', x='n', filename=f'{name}_e{e}', xlog=True, ylog=True, trend_line='poly', fit_min=fit_from, cone='csh')"
   ]
  },
  {
   "cell_type": "code",
   "execution_count": null,
   "metadata": {},
   "outputs": [],
   "source": [
    "# MAX MEMORY USAGE\n",
    "\n",
    "df = tools\n",
    "df = df[df.n >= 1000000]\n",
    "df = df[df.e >= 0.1]\n",
    "df = df.sort_values(by=['alg'])\n",
    "display(df[['alg', 'n', 'e', 's', 'max_uss']])"
   ]
  },
  {
   "cell_type": "code",
   "execution_count": null,
   "metadata": {},
   "outputs": [],
   "source": [
    "# BEST PARAMS\n",
    "p = params\n",
    "p = p[p.e == 0.1]\n",
    "p = p[p.alg == 'cp-sh']\n",
    "p = p[p.n == 1000000]\n",
    "display(p) # all\n"
   ]
  }
 ],
 "metadata": {
  "kernelspec": {
   "display_name": "Python 3 (ipykernel)",
   "language": "python",
   "name": "python3"
  },
  "language_info": {
   "codemirror_mode": {
    "name": "ipython",
    "version": 3
   },
   "file_extension": ".py",
   "mimetype": "text/x-python",
   "name": "python",
   "nbconvert_exporter": "python",
   "pygments_lexer": "ipython3",
   "version": "3.10.5"
  }
 },
 "nbformat": 4,
 "nbformat_minor": 4
}
