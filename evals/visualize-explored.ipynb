{
 "cells": [
  {
   "cell_type": "code",
   "execution_count": null,
   "metadata": {},
   "outputs": [],
   "source": [
    "import numpy as np\n",
    "from matplotlib import cm\n",
    "import matplotlib.pyplot as plt\n",
    "from matplotlib import colors as mcolors\n",
    "\n",
    "from pathlib import Path\n",
    "import pandas as pd\n",
    "\n",
    "plt.style.use('ggplot')\n",
    "pd.set_option('display.max_columns', None)"
   ]
  },
  {
   "cell_type": "code",
   "execution_count": null,
   "metadata": {},
   "outputs": [],
   "source": [
    "INF = 999999\n",
    "\n",
    "def plot_explored(f, steps=-1, box=INF, l=6):\n",
    "    t = pd.read_csv(f, delimiter=',', dtype=None)\n",
    "    total_t = len(t.index)\n",
    " \n",
    "    max_steps = len(t) if steps == -1 else steps\n",
    "    \n",
    "    if box == INF:\n",
    "        n, m = max(t[:,0]) + 1, max(t[:,1]) + 1\n",
    "    else:\n",
    "        n, m = box, box\n",
    "    \n",
    "    img = np.ones((n, m, 4))\n",
    "    img.fill(0.97)  # grey\n",
    "    \n",
    "    subt = t.loc[(t.i < box) & (t.j < box)]\n",
    "    \n",
    "    for index, row in subt.loc[subt['type'] == 'Expanded'].iterrows():\n",
    "        assert row.step != -1\n",
    "        if row.step > max_steps:\n",
    "            continue\n",
    "        val = row.step / max_steps\n",
    "        if val <= 1.0:\n",
    "            img[row.i, row.j] = cm.cool(val)\n",
    "        \n",
    "    for index, row in subt.loc[subt['type'] == 'Path'].iterrows():\n",
    "        img[row.i, row.j] = mcolors.to_rgba('xkcd:black')\n",
    "        \n",
    "    for index, row in subt.loc[subt['type'] == 'Match'].iterrows():\n",
    "        for d in range(l):\n",
    "            if row.i+d < img.shape[0] and row.j+d < img.shape[1]:\n",
    "                img[row.i+d, row.j+d] = mcolors.to_rgba('xkcd:canary')\n",
    "    \n",
    "    fig, ax = plt.subplots(figsize=(20,16))\n",
    "    title = f.stem\n",
    "    ax.set_title('{} ({})'.format(title, total_t), y=-0.01)\n",
    "    ax.xaxis.tick_top()\n",
    "    ax.grid(False)\n",
    "    \n",
    "    ax.imshow(img)\n",
    "    fig.savefig('imgs/'+title+'.png')"
   ]
  },
  {
   "cell_type": "code",
   "execution_count": null,
   "metadata": {
    "scrolled": false
   },
   "outputs": [],
   "source": [
    "d = Path('stats/')\n",
    "min_steps = 10000000\n",
    "all_files = list(d.glob('*.csv'))\n",
    "some_files = [d/'exact.csv', d/'inexact.csv', d/'exact_pruning.csv', d/'inexact_pruning.csv']\n",
    "\n",
    "files = some_files\n",
    "for f in files:\n",
    "    t = pd.read_csv(f, delimiter=',', dtype=None)\n",
    "    #display(t)\n",
    "    min_steps = min(min_steps, max(t['step']))\n",
    "for f in files:\n",
    "    plot_explored(f, box=350, steps=4000, l=4)"
   ]
  },
  {
   "cell_type": "code",
   "execution_count": null,
   "metadata": {},
   "outputs": [],
   "source": [
    "def plot_l():\n",
    "    f = 'stats/table.csv'\n",
    "    t = pd.read_csv(f, delimiter=',', dtype=None)\n",
    "    #display(t)\n",
    "    t['algo'] = t.heuristic + ' with ' + t.distance_function\n",
    "    t['band'] = t.explored / t.len_a\n",
    "    subt = t.loc[(t.error_rate == 0.1)]\n",
    "    #display(subt)\n",
    "\n",
    "    fig, ax = plt.subplots()\n",
    "\n",
    "    for key, grp in subt.groupby(['algo']):\n",
    "        ax = grp.plot(ax=ax, kind='line', x='l', y='band', label=key)\n",
    "\n",
    "    plt.legend(loc='best')\n",
    "    plt.show()\n",
    "\n",
    "plot_l()"
   ]
  },
  {
   "cell_type": "code",
   "execution_count": null,
   "metadata": {
    "scrolled": true
   },
   "outputs": [],
   "source": [
    "def plot_():\n",
    "    f = 'stats/table.csv'\n",
    "    t = pd.read_csv(f, delimiter=',', dtype=None)\n",
    "    t['algo'] = t.heuristic + ' with ' + t.distance_function\n",
    "    t['band'] = t.explored / t.len_a\n",
    "    t['delta'] = t.distance - t.root_h\n",
    "    \n",
    "    subt = t.loc[(t.error_rate == 0.1)]\n",
    "    #display(subt)\n",
    "\n",
    "    fig, ax = plt.subplots()\n",
    "\n",
    "    for key, grp in subt.groupby(['algo']):\n",
    "        ax = grp.plot(ax=ax, kind='line', x='delta', y='band', label=key)\n",
    "\n",
    "    plt.legend(loc='best')\n",
    "    plt.show()\n",
    "\n",
    "plot_()"
   ]
  }
 ],
 "metadata": {
  "kernelspec": {
   "display_name": "Python 3 (ipykernel)",
   "language": "python",
   "name": "python3"
  },
  "language_info": {
   "codemirror_mode": {
    "name": "ipython",
    "version": 3
   },
   "file_extension": ".py",
   "mimetype": "text/x-python",
   "name": "python",
   "nbconvert_exporter": "python",
   "pygments_lexer": "ipython3",
   "version": "3.9.9"
  },
  "widgets": {
   "application/vnd.jupyter.widget-state+json": {
    "state": {},
    "version_major": 2,
    "version_minor": 0
   }
  }
 },
 "nbformat": 4,
 "nbformat_minor": 4
}
